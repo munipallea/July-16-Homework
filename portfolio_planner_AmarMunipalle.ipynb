{
 "cells": [
  {
   "cell_type": "markdown",
   "metadata": {},
   "source": [
    "# Retirement Planner\n",
    "\n",
    "---\n",
    "\n",
    "## Environment Setup"
   ]
  },
  {
   "cell_type": "code",
   "execution_count": 4,
   "metadata": {},
   "outputs": [],
   "source": [
    "# Import libraries and dependencies\n",
    "import numpy as np\n",
    "import pandas as pd\n",
    "import os\n",
    "from datetime import datetime, timedelta\n",
    "import matplotlib.pyplot as plt\n",
    "import alpaca_trade_api as tradeapi\n",
    "%matplotlib inline"
   ]
  },
  {
   "cell_type": "code",
   "execution_count": 5,
   "metadata": {},
   "outputs": [],
   "source": [
    "# Set the random seed for resutls reproducibility (for testing purposes only)\n",
    "np.random.seed(42)"
   ]
  },
  {
   "cell_type": "markdown",
   "metadata": {},
   "source": [
    "---\n",
    "\n",
    "## Portfolio Planner\n",
    "\n",
    "In this activity, you will use the Alpaca API to grab historical data for a `60/40` portfolio using `SPY` to represent the stock portion and `AGG` to represent the bonds."
   ]
  },
  {
   "cell_type": "code",
   "execution_count": 6,
   "metadata": {},
   "outputs": [],
   "source": [
    "# Load .env enviroment variables\n",
    "from dotenv import load_dotenv\n",
    "load_dotenv()\n",
    "\n",
    "# Set Alpaca API key and secret\n",
    "alpaca_api_key = os.getenv(\"ALPACA_API_KEY\")\n",
    "alpaca_secret_key = os.getenv(\"ALPACA_SECRET_KEY\")\n",
    "\n",
    "# Create the Alpaca API object\n",
    "api = tradeapi.REST(\n",
    "    alpaca_api_key,\n",
    "    alpaca_secret_key,\n",
    "    api_version=\"v2\")"
   ]
  },
  {
   "cell_type": "markdown",
   "metadata": {},
   "source": [
    "# Data Collection\n",
    "\n",
    "In this step, you will need to use the Alpaca api to fetch closing prices for the `SPY` and `AGG` tickers. Save the results as a pandas DataFrame"
   ]
  },
  {
   "cell_type": "code",
   "execution_count": 7,
   "metadata": {},
   "outputs": [],
   "source": [
    "# Subset your tickers, then pull returns data:\n",
    "# Set the ticker\n",
    "ticker = [\"SPY\", \"AGG\"]\n",
    "\n",
    "# Set timeframe to '1D'\n",
    "timeframe = \"1D\"\n",
    "\n",
    "# Set start and end datetimes of 1 year, between now and 365 days ago.\n",
    "start_date = pd.Timestamp('2019-01-01', tz='America/New_York').isoformat()\n",
    "end_date = pd.Timestamp('2019-12-31', tz='America/New_York').isoformat()\n",
    "\n",
    "# Get 1 year's worth of historical data for SPY and AGG\n",
    "df = api.get_barset(\n",
    "    ticker,\n",
    "    timeframe,\n",
    "    limit=None,\n",
    "    start=start_date,\n",
    "    end=end_date,\n",
    "    after=None,\n",
    "    until=None,\n",
    ").df\n",
    "\n",
    "# Drop unnecessary columns\n",
    "df = df.drop(\n",
    "    columns=['open', 'high', 'low', 'volume'],\n",
    "    level=1\n",
    ")"
   ]
  },
  {
   "cell_type": "code",
   "execution_count": 28,
   "metadata": {},
   "outputs": [
    {
     "data": {
      "text/html": [
       "<div>\n",
       "<style scoped>\n",
       "    .dataframe tbody tr th:only-of-type {\n",
       "        vertical-align: middle;\n",
       "    }\n",
       "\n",
       "    .dataframe tbody tr th {\n",
       "        vertical-align: top;\n",
       "    }\n",
       "\n",
       "    .dataframe thead tr th {\n",
       "        text-align: left;\n",
       "    }\n",
       "\n",
       "    .dataframe thead tr:last-of-type th {\n",
       "        text-align: right;\n",
       "    }\n",
       "</style>\n",
       "<table border=\"1\" class=\"dataframe\">\n",
       "  <thead>\n",
       "    <tr>\n",
       "      <th></th>\n",
       "      <th>AGG</th>\n",
       "      <th>SPY</th>\n",
       "    </tr>\n",
       "    <tr>\n",
       "      <th></th>\n",
       "      <th>close</th>\n",
       "      <th>close</th>\n",
       "    </tr>\n",
       "    <tr>\n",
       "      <th>time</th>\n",
       "      <th></th>\n",
       "      <th></th>\n",
       "    </tr>\n",
       "  </thead>\n",
       "  <tbody>\n",
       "    <tr>\n",
       "      <th>2019-12-24 00:00:00-05:00</th>\n",
       "      <td>112.375</td>\n",
       "      <td>321.26</td>\n",
       "    </tr>\n",
       "    <tr>\n",
       "      <th>2019-12-26 00:00:00-05:00</th>\n",
       "      <td>112.480</td>\n",
       "      <td>322.91</td>\n",
       "    </tr>\n",
       "    <tr>\n",
       "      <th>2019-12-27 00:00:00-05:00</th>\n",
       "      <td>112.620</td>\n",
       "      <td>322.86</td>\n",
       "    </tr>\n",
       "    <tr>\n",
       "      <th>2019-12-30 00:00:00-05:00</th>\n",
       "      <td>112.630</td>\n",
       "      <td>321.10</td>\n",
       "    </tr>\n",
       "    <tr>\n",
       "      <th>2019-12-31 00:00:00-05:00</th>\n",
       "      <td>112.370</td>\n",
       "      <td>321.92</td>\n",
       "    </tr>\n",
       "  </tbody>\n",
       "</table>\n",
       "</div>"
      ],
      "text/plain": [
       "                               AGG     SPY\n",
       "                             close   close\n",
       "time                                      \n",
       "2019-12-24 00:00:00-05:00  112.375  321.26\n",
       "2019-12-26 00:00:00-05:00  112.480  322.91\n",
       "2019-12-27 00:00:00-05:00  112.620  322.86\n",
       "2019-12-30 00:00:00-05:00  112.630  321.10\n",
       "2019-12-31 00:00:00-05:00  112.370  321.92"
      ]
     },
     "execution_count": 28,
     "metadata": {},
     "output_type": "execute_result"
    }
   ],
   "source": [
    "# Display sample data\n",
    "df.head()\n",
    "df.tail()"
   ]
  },
  {
   "cell_type": "markdown",
   "metadata": {},
   "source": [
    "---\n",
    "\n",
    "## Monte Carlo Simulation\n",
    "\n",
    "In this step, you will run Monte Carlo Simulations for your portfolio to model portfolio performance at different retirement ages. \n",
    "\n",
    "Complete the following steps:\n",
    "\n",
    "1. Calculate the daily returns for the SPY and AGG closing prices.\n",
    "\n",
    "2. Calculate volatility for both the SPY and AGG closing prices.\n",
    "\n",
    "3. Find the last day's closing price for both stocks and save those as variables\n",
    "\n",
    "4. Run a Monte Carlo Simulation of at least `100` iterations and generate at least `30` years of closing prices\n",
    "\n",
    "**Hint:** There are `252` trading days per year, so the number of records to generate for each Monte Carlo run will be `252 days * 30 years`."
   ]
  },
  {
   "cell_type": "code",
   "execution_count": 37,
   "metadata": {},
   "outputs": [
    {
     "name": "stdout",
     "output_type": "stream",
     "text": [
      "     1Yr Mean\n",
      "AGG  0.000213\n",
      "SPY  0.001040\n"
     ]
    }
   ],
   "source": [
    "# Calculate the daily roi for the stocks\n",
    "avg_return=pd.DataFrame(df.pct_change().mean())\n",
    "avg_return.index=['AGG', 'SPY']\n",
    "avg_return.columns=['1Yr Mean']\n",
    "avg_return.head()\n",
    "# Display sample data\n",
    "avg_return.loc[\"AGG\",\"1Yr Mean\"]\n",
    "avg_return.loc[\"SPY\",\"1Yr Mean\"]\n",
    "print(avg_return.head())"
   ]
  },
  {
   "cell_type": "code",
   "execution_count": 23,
   "metadata": {},
   "outputs": [
    {
     "data": {
      "text/html": [
       "<div>\n",
       "<style scoped>\n",
       "    .dataframe tbody tr th:only-of-type {\n",
       "        vertical-align: middle;\n",
       "    }\n",
       "\n",
       "    .dataframe tbody tr th {\n",
       "        vertical-align: top;\n",
       "    }\n",
       "\n",
       "    .dataframe thead th {\n",
       "        text-align: right;\n",
       "    }\n",
       "</style>\n",
       "<table border=\"1\" class=\"dataframe\">\n",
       "  <thead>\n",
       "    <tr style=\"text-align: right;\">\n",
       "      <th></th>\n",
       "      <th>1Yr Vol</th>\n",
       "    </tr>\n",
       "  </thead>\n",
       "  <tbody>\n",
       "    <tr>\n",
       "      <th>AGG</th>\n",
       "      <td>0.002089</td>\n",
       "    </tr>\n",
       "    <tr>\n",
       "      <th>SPY</th>\n",
       "      <td>0.007820</td>\n",
       "    </tr>\n",
       "  </tbody>\n",
       "</table>\n",
       "</div>"
      ],
      "text/plain": [
       "      1Yr Vol\n",
       "AGG  0.002089\n",
       "SPY  0.007820"
      ]
     },
     "execution_count": 23,
     "metadata": {},
     "output_type": "execute_result"
    }
   ],
   "source": [
    "# Compute daily volatility\n",
    "# Calculate the daily roi for the stocks\n",
    "OneYr_Vol=pd.DataFrame(df.pct_change().std())\n",
    "OneYr_Vol.index=['AGG', 'SPY']\n",
    "OneYr_Vol.columns=['1Yr Vol']\n",
    "OneYr_Vol.head()\n",
    "# Display sample data"
   ]
  },
  {
   "cell_type": "code",
   "execution_count": 29,
   "metadata": {},
   "outputs": [
    {
     "name": "stdout",
     "output_type": "stream",
     "text": [
      "321.92\n"
     ]
    }
   ],
   "source": [
    "# Save the last day's closing price\n",
    "agg_last_closing=df[\"AGG\"][\"close\"][-1]\n",
    "spy_last_closing=df[\"SPY\"][\"close\"][-1]"
   ]
  },
  {
   "cell_type": "code",
   "execution_count": 32,
   "metadata": {},
   "outputs": [],
   "source": [
    "# Setup the Monte Carlo Parameters\n",
    "number_simulations = 500\n",
    "number_records = 252 * 30\n",
    "number_years = 30  #added parameter for number of years\n",
    "monte_carlo = pd.DataFrame()"
   ]
  },
  {
   "cell_type": "code",
   "execution_count": 80,
   "metadata": {},
   "outputs": [
    {
     "data": {
      "text/html": [
       "<div>\n",
       "<style scoped>\n",
       "    .dataframe tbody tr th:only-of-type {\n",
       "        vertical-align: middle;\n",
       "    }\n",
       "\n",
       "    .dataframe tbody tr th {\n",
       "        vertical-align: top;\n",
       "    }\n",
       "\n",
       "    .dataframe thead th {\n",
       "        text-align: right;\n",
       "    }\n",
       "</style>\n",
       "<table border=\"1\" class=\"dataframe\">\n",
       "  <thead>\n",
       "    <tr style=\"text-align: right;\">\n",
       "      <th></th>\n",
       "      <th>0</th>\n",
       "      <th>1</th>\n",
       "      <th>2</th>\n",
       "      <th>3</th>\n",
       "      <th>4</th>\n",
       "      <th>5</th>\n",
       "      <th>6</th>\n",
       "      <th>7</th>\n",
       "      <th>8</th>\n",
       "      <th>9</th>\n",
       "      <th>...</th>\n",
       "      <th>490</th>\n",
       "      <th>491</th>\n",
       "      <th>492</th>\n",
       "      <th>493</th>\n",
       "      <th>494</th>\n",
       "      <th>495</th>\n",
       "      <th>496</th>\n",
       "      <th>497</th>\n",
       "      <th>498</th>\n",
       "      <th>499</th>\n",
       "    </tr>\n",
       "  </thead>\n",
       "  <tbody>\n",
       "    <tr>\n",
       "      <th>0</th>\n",
       "      <td>1.000000</td>\n",
       "      <td>1.000000</td>\n",
       "      <td>1.000000</td>\n",
       "      <td>1.000000</td>\n",
       "      <td>1.000000</td>\n",
       "      <td>1.000000</td>\n",
       "      <td>1.000000</td>\n",
       "      <td>1.000000</td>\n",
       "      <td>1.000000</td>\n",
       "      <td>1.000000</td>\n",
       "      <td>...</td>\n",
       "      <td>1.000000</td>\n",
       "      <td>1.000000</td>\n",
       "      <td>1.000000</td>\n",
       "      <td>1.000000</td>\n",
       "      <td>1.000000</td>\n",
       "      <td>1.000000</td>\n",
       "      <td>1.000000</td>\n",
       "      <td>1.000000</td>\n",
       "      <td>1.000000</td>\n",
       "      <td>1.000000</td>\n",
       "    </tr>\n",
       "    <tr>\n",
       "      <th>1</th>\n",
       "      <td>0.996843</td>\n",
       "      <td>0.999008</td>\n",
       "      <td>0.995367</td>\n",
       "      <td>1.000397</td>\n",
       "      <td>1.012342</td>\n",
       "      <td>1.010130</td>\n",
       "      <td>0.996505</td>\n",
       "      <td>1.000728</td>\n",
       "      <td>1.010624</td>\n",
       "      <td>1.012490</td>\n",
       "      <td>...</td>\n",
       "      <td>0.998484</td>\n",
       "      <td>1.007499</td>\n",
       "      <td>1.010418</td>\n",
       "      <td>1.003011</td>\n",
       "      <td>0.991617</td>\n",
       "      <td>0.996755</td>\n",
       "      <td>1.007782</td>\n",
       "      <td>1.002387</td>\n",
       "      <td>0.994367</td>\n",
       "      <td>0.997020</td>\n",
       "    </tr>\n",
       "    <tr>\n",
       "      <th>2</th>\n",
       "      <td>0.999043</td>\n",
       "      <td>0.999024</td>\n",
       "      <td>0.996192</td>\n",
       "      <td>1.005303</td>\n",
       "      <td>1.008837</td>\n",
       "      <td>1.006938</td>\n",
       "      <td>0.995248</td>\n",
       "      <td>0.998291</td>\n",
       "      <td>1.019182</td>\n",
       "      <td>1.008016</td>\n",
       "      <td>...</td>\n",
       "      <td>1.001571</td>\n",
       "      <td>1.007128</td>\n",
       "      <td>1.013536</td>\n",
       "      <td>1.013082</td>\n",
       "      <td>0.994618</td>\n",
       "      <td>0.989905</td>\n",
       "      <td>1.013992</td>\n",
       "      <td>1.000732</td>\n",
       "      <td>0.994951</td>\n",
       "      <td>1.008902</td>\n",
       "    </tr>\n",
       "    <tr>\n",
       "      <th>3</th>\n",
       "      <td>0.993968</td>\n",
       "      <td>0.997019</td>\n",
       "      <td>0.996816</td>\n",
       "      <td>1.006736</td>\n",
       "      <td>1.010268</td>\n",
       "      <td>1.012935</td>\n",
       "      <td>0.994629</td>\n",
       "      <td>1.000372</td>\n",
       "      <td>1.023057</td>\n",
       "      <td>1.006325</td>\n",
       "      <td>...</td>\n",
       "      <td>1.006877</td>\n",
       "      <td>1.007426</td>\n",
       "      <td>1.015806</td>\n",
       "      <td>1.009254</td>\n",
       "      <td>0.984450</td>\n",
       "      <td>0.998607</td>\n",
       "      <td>1.016249</td>\n",
       "      <td>0.996268</td>\n",
       "      <td>1.004078</td>\n",
       "      <td>1.013797</td>\n",
       "    </tr>\n",
       "    <tr>\n",
       "      <th>4</th>\n",
       "      <td>1.001468</td>\n",
       "      <td>0.993934</td>\n",
       "      <td>0.995279</td>\n",
       "      <td>1.011144</td>\n",
       "      <td>1.005963</td>\n",
       "      <td>1.020848</td>\n",
       "      <td>1.000627</td>\n",
       "      <td>0.992154</td>\n",
       "      <td>1.026933</td>\n",
       "      <td>1.009787</td>\n",
       "      <td>...</td>\n",
       "      <td>1.008476</td>\n",
       "      <td>1.017659</td>\n",
       "      <td>1.024718</td>\n",
       "      <td>1.016194</td>\n",
       "      <td>0.986391</td>\n",
       "      <td>1.006905</td>\n",
       "      <td>1.017386</td>\n",
       "      <td>0.995823</td>\n",
       "      <td>1.002472</td>\n",
       "      <td>1.010662</td>\n",
       "    </tr>\n",
       "  </tbody>\n",
       "</table>\n",
       "<p>5 rows × 500 columns</p>\n",
       "</div>"
      ],
      "text/plain": [
       "        0         1         2         3         4         5         6    \\\n",
       "0  1.000000  1.000000  1.000000  1.000000  1.000000  1.000000  1.000000   \n",
       "1  0.996843  0.999008  0.995367  1.000397  1.012342  1.010130  0.996505   \n",
       "2  0.999043  0.999024  0.996192  1.005303  1.008837  1.006938  0.995248   \n",
       "3  0.993968  0.997019  0.996816  1.006736  1.010268  1.012935  0.994629   \n",
       "4  1.001468  0.993934  0.995279  1.011144  1.005963  1.020848  1.000627   \n",
       "\n",
       "        7         8         9    ...       490       491       492       493  \\\n",
       "0  1.000000  1.000000  1.000000  ...  1.000000  1.000000  1.000000  1.000000   \n",
       "1  1.000728  1.010624  1.012490  ...  0.998484  1.007499  1.010418  1.003011   \n",
       "2  0.998291  1.019182  1.008016  ...  1.001571  1.007128  1.013536  1.013082   \n",
       "3  1.000372  1.023057  1.006325  ...  1.006877  1.007426  1.015806  1.009254   \n",
       "4  0.992154  1.026933  1.009787  ...  1.008476  1.017659  1.024718  1.016194   \n",
       "\n",
       "        494       495       496       497       498       499  \n",
       "0  1.000000  1.000000  1.000000  1.000000  1.000000  1.000000  \n",
       "1  0.991617  0.996755  1.007782  1.002387  0.994367  0.997020  \n",
       "2  0.994618  0.989905  1.013992  1.000732  0.994951  1.008902  \n",
       "3  0.984450  0.998607  1.016249  0.996268  1.004078  1.013797  \n",
       "4  0.986391  1.006905  1.017386  0.995823  1.002472  1.010662  \n",
       "\n",
       "[5 rows x 500 columns]"
      ]
     },
     "execution_count": 80,
     "metadata": {},
     "output_type": "execute_result"
    }
   ],
   "source": [
    "# Run the Monte Carlo Simulation\n",
    "\n",
    "\n",
    "# Initialize empty DataFrame to hold simulated prices for each simulation\n",
    "\n",
    "portfolio_cumulative_returns = pd.DataFrame()\n",
    "\n",
    "# Run the simulation of projecting stock prices for the next trading year, `1000` times\n",
    "for n in range(number_simulations):\n",
    "\n",
    "    # Initialize the simulated prices list with the last closing price of `TSLA` and `SPHD`\n",
    "    simulated_agg_prices = [agg_last_closing]\n",
    "    simulated_spy_prices = [spy_last_closing]\n",
    "    \n",
    "    # Simulate the returns for 252 * 30 days\n",
    "    for i in range(number_records):\n",
    "        \n",
    "        # Calculate the simulated price using the last price within the list\n",
    "        simulated_agg_price = simulated_agg_prices[-1] * (1 + np.random.normal(avg_return.loc[\"AGG\",\"1Yr Mean\"], OneYr_Vol.loc[\"AGG\",\"1Yr Vol\"]))\n",
    "        simulated_spy_price = simulated_spy_prices[-1] * (1 + np.random.normal(avg_return.loc[\"SPY\",\"1Yr Mean\"], OneYr_Vol.loc[\"SPY\",\"1Yr Vol\"]))\n",
    "        \n",
    "        # Append the simulated price to the list\n",
    "        simulated_agg_prices.append(simulated_agg_price)\n",
    "        simulated_spy_prices.append(simulated_spy_price)\n",
    "    \n",
    "    # Append the simulated prices of each simulation to DataFrame\n",
    "    monte_carlo[\"AGG prices\"] = pd.Series(simulated_agg_prices)\n",
    "    monte_carlo[\"SPY prices\"] = pd.Series(simulated_spy_prices)\n",
    "    \n",
    "    # Calculate the daily returns of simulated prices\n",
    "    simulated_daily_returns = monte_carlo.pct_change()\n",
    "    \n",
    "    # Set the portfolio weights (60/40 portfolio SPY and AGG)\n",
    "    weights = [0.4, 0.6]\n",
    "\n",
    "    # Use the `dot` function with the weights to multiply weights with each column's simulated daily returns\n",
    "    portfolio_daily_returns = simulated_daily_returns.dot(weights)\n",
    "    \n",
    "    # Calculate the normalized, cumulative return series\n",
    "    portfolio_cumulative_returns[n] = (1 + portfolio_daily_returns.fillna(0)).cumprod()\n",
    "\n",
    "# Print records from the DataFrame\n",
    "portfolio_cumulative_returns.head()"
   ]
  },
  {
   "cell_type": "code",
   "execution_count": 81,
   "metadata": {},
   "outputs": [
    {
     "data": {
      "text/plain": [
       "214.1888142924587"
      ]
     },
     "execution_count": 81,
     "metadata": {},
     "output_type": "execute_result"
    }
   ],
   "source": [
    "monte_carlo.tail()\n",
    "portfolio_cumulative_returns.iloc[-1,:].mean()"
   ]
  },
  {
   "cell_type": "code",
   "execution_count": 82,
   "metadata": {},
   "outputs": [
    {
     "name": "stdout",
     "output_type": "stream",
     "text": [
      "Monte Carlo Estimates Mean and Median: 198.97, 214.19\n",
      "Base Estimates 1Yr Mean    211.623472\n",
      "dtype: float64\n"
     ]
    }
   ],
   "source": [
    "# Check that the simulation ran successfully\n",
    "print(f\"Monte Carlo Estimates Mean and Median: {round(portfolio_cumulative_returns.iloc[-1,:].median(),2)}, {round(portfolio_cumulative_returns.iloc[-1,:].mean(),2)}\")\n",
    "print(f\"Base Estimates {(1+avg_return.T.dot(weights))**number_records-1}\")\n",
    "# The code above compares the mean and median of the Cumulative Returns Monte Carlo distribution with a base case i.e. 1 day mean AGG and SPY return compounded over 252*30 trading days\n"
   ]
  },
  {
   "cell_type": "code",
   "execution_count": 83,
   "metadata": {},
   "outputs": [
    {
     "data": {
      "text/plain": [
       "<matplotlib.axes._subplots.AxesSubplot at 0x1d059d2cdc8>"
      ]
     },
     "execution_count": 83,
     "metadata": {},
     "output_type": "execute_result"
    },
    {
     "data": {
      "image/png": "[encoded data removed]",
      "text/plain": [
       "<Figure size 432x288 with 1 Axes>"
      ]
     },
     "metadata": {
      "needs_background": "light"
     },
     "output_type": "display_data"
    }
   ],
   "source": [
    "# Visualize the Simulation\n",
    "plot_title = f\"{n+1} Simulations of Cumulative Portfolio Return Trajectories Over the Next 252*30 Trading Days\"\n",
    "portfolio_cumulative_returns.plot(legend=None, title=plot_title)"
   ]
  },
  {
   "cell_type": "code",
   "execution_count": 88,
   "metadata": {},
   "outputs": [
    {
     "data": {
      "text/plain": [
       "<matplotlib.axes._subplots.AxesSubplot at 0x1d068d28508>"
      ]
     },
     "execution_count": 88,
     "metadata": {},
     "output_type": "execute_result"
    },
    {
     "data": {
      "image/png": "[encoded data removed]",
      "text/plain": [
       "<Figure size 432x288 with 1 Axes>"
      ]
     },
     "metadata": {
      "needs_background": "light"
     },
     "output_type": "display_data"
    }
   ],
   "source": [
    "# Select the last row for the cumulative returns (cumulative returns at 20 years)\n",
    "portfolio_cumulative_returns.iloc[-1,:].describe()\n",
    "portfolio_cumulative_returns.iloc[-1,:].plot(kind=\"hist\",bins=10)"
   ]
  },
  {
   "cell_type": "code",
   "execution_count": 188,
   "metadata": {},
   "outputs": [
    {
     "data": {
      "text/plain": [
       "(169.11, 297.999]               0.494\n",
       "(38.931000000000004, 169.11]    0.350\n",
       "(297.999, 426.888]              0.134\n",
       "(426.888, 555.776]              0.018\n",
       "(1200.221, 1329.109]            0.002\n",
       "(813.554, 942.443]              0.002\n",
       "(1071.332, 1200.221]            0.000\n",
       "(942.443, 1071.332]             0.000\n",
       "(684.665, 813.554]              0.000\n",
       "(555.776, 684.665]              0.000\n",
       "Name: 7560, dtype: float64"
      ]
     },
     "execution_count": 188,
     "metadata": {},
     "output_type": "execute_result"
    }
   ],
   "source": [
    "portfolio_cumulative_returns.iloc[-1,:].value_counts(bins=10) / len(portfolio_cumulative_returns.iloc[-1,:])"
   ]
  },
  {
   "cell_type": "code",
   "execution_count": 179,
   "metadata": {},
   "outputs": [
    {
     "data": {
      "text/plain": [
       "0      179.829066\n",
       "1      182.533196\n",
       "2      104.741718\n",
       "3      229.235482\n",
       "4      107.457944\n",
       "5      153.169827\n",
       "6      122.264721\n",
       "7      223.036148\n",
       "8      222.321766\n",
       "9      165.429630\n",
       "10     229.884941\n",
       "11     247.097045\n",
       "12     270.768113\n",
       "13     151.571943\n",
       "14     273.681752\n",
       "15     157.262910\n",
       "16     138.585630\n",
       "17     119.952204\n",
       "18     233.794892\n",
       "19     130.280043\n",
       "20     314.824202\n",
       "21     126.896770\n",
       "22     193.772271\n",
       "23     186.839623\n",
       "24     289.883393\n",
       "25     184.215655\n",
       "26     143.369262\n",
       "27     224.060877\n",
       "28     364.964007\n",
       "29     158.338021\n",
       "          ...    \n",
       "470    217.794616\n",
       "471    222.060611\n",
       "472    340.869484\n",
       "473    335.688994\n",
       "474    120.783989\n",
       "475    243.210441\n",
       "476    189.789209\n",
       "477    296.392560\n",
       "478    187.177721\n",
       "479    234.691573\n",
       "480    151.740514\n",
       "481    145.622687\n",
       "482    119.873898\n",
       "483    345.831392\n",
       "484    162.352295\n",
       "485    329.330366\n",
       "486    211.803739\n",
       "487    307.598639\n",
       "488    296.550029\n",
       "489    231.417241\n",
       "490    232.850942\n",
       "491    471.148776\n",
       "492    102.621660\n",
       "493    100.038934\n",
       "494    285.598599\n",
       "495    310.742998\n",
       "496    205.395801\n",
       "497    261.652615\n",
       "498    128.666650\n",
       "499    141.721463\n",
       "Name: 7560, Length: 500, dtype: float64"
      ]
     },
     "execution_count": 179,
     "metadata": {},
     "output_type": "execute_result"
    }
   ],
   "source": [
    "# Select the last row for the cumulative returns (cumulative returns at 30 years)\n",
    "portfolio_cumulative_returns.iloc[-1,:] # return at 30 years\n",
    "#portfolio_cumulative_returns.iloc[-253,:] # return at 20 years"
   ]
  },
  {
   "cell_type": "code",
   "execution_count": 178,
   "metadata": {},
   "outputs": [
    {
     "data": {
      "text/plain": [
       "<matplotlib.lines.Line2D at 0x1d079a95708>"
      ]
     },
     "execution_count": 178,
     "metadata": {},
     "output_type": "execute_result"
    },
    {
     "data": {
      "image/png": "[encoded data removed]",
      "text/plain": [
       "<Figure size 432x288 with 1 Axes>"
      ]
     },
     "metadata": {
      "needs_background": "light"
     },
     "output_type": "display_data"
    }
   ],
   "source": [
    "# Display the 90% confidence interval for the ending returns\n",
    "ending_cumulative_returns=portfolio_cumulative_returns.iloc[-1,:]\n",
    "confidence_interval_30 = ending_cumulative_returns.quantile(q=[0.05, 0.95])\n",
    "ending_cumulative_returns.plot(kind='hist', density=True, bins=10)\n",
    "plt.axvline(confidence_interval_30.iloc[0], color='r')\n",
    "plt.axvline(confidence_interval_30.iloc[1], color='r')"
   ]
  },
  {
   "cell_type": "code",
   "execution_count": 105,
   "metadata": {},
   "outputs": [
    {
     "data": {
      "text/plain": [
       "<matplotlib.axes._subplots.AxesSubplot at 0x1d06c749348>"
      ]
     },
     "execution_count": 105,
     "metadata": {},
     "output_type": "execute_result"
    },
    {
     "data": {
      "image/png": "[encoded data removed]",
      "text/plain": [
       "<Figure size 432x288 with 1 Axes>"
      ]
     },
     "metadata": {
      "needs_background": "light"
     },
     "output_type": "display_data"
    }
   ],
   "source": [
    "# Visualize the distribution of the ending returns\n",
    "ending_cumulative_returns.plot(kind=\"hist\",legend=None, title=\"Returns at end of simulation\")\n",
    "ending_cumulative_returns.plot(kind=\"kde\",legend=None, title=\"Returns at end of simulation\")"
   ]
  },
  {
   "cell_type": "code",
   "execution_count": 187,
   "metadata": {},
   "outputs": [
    {
     "data": {
      "text/plain": [
       "<matplotlib.axes._subplots.AxesSubplot at 0x1d059cd3c48>"
      ]
     },
     "execution_count": 187,
     "metadata": {},
     "output_type": "execute_result"
    },
    {
     "data": {
      "image/png": "[encoded data removed]",
      "text/plain": [
       "<Figure size 432x288 with 1 Axes>"
      ]
     },
     "metadata": {
      "needs_background": "light"
     },
     "output_type": "display_data"
    }
   ],
   "source": [
    "monte_carlo[\"SPY prices\"].pct_change().plot(kind=\"hist\") #confirms daily distribution of prices for a single sample\n",
    "monte_carlo[\"AGG prices\"].pct_change().plot(kind=\"hist\") #confirms daily distribution of prices for a single sample"
   ]
  },
  {
   "cell_type": "markdown",
   "metadata": {},
   "source": [
    "---"
   ]
  },
  {
   "cell_type": "markdown",
   "metadata": {},
   "source": [
    "## Retirement Analysis\n",
    "\n",
    "In this section, you will use the monte carlo model to answer the following retirement planning questions:\n",
    "\n",
    "1. What are the expected cumulative returns at `30` years for the `10th`, `50th`, and `90th` percentiles?\n",
    "\n",
    "2. Given an initial investment of `$20,000`, what is the expected return in dollars at the `10th`, `50th`, and `90th` percentiles?\n",
    "\n",
    "3. Given the current projected annual income from the Plaid analysis, will a `4%` withdrawal rate meet or exceed that value at the `10th` percentile? Note: This is basically determining if retirement income is equivalent to current income.\n",
    "\n",
    "4. How would a `50%` increase in the initial investment amount affect the `4%` retirement withdrawal? In other words, what happens if the initial investment had been bigger?"
   ]
  },
  {
   "cell_type": "markdown",
   "metadata": {},
   "source": [
    "### What are the expected cumulative returns at 30 years for the 10th, 50th, and 90th percentiles?"
   ]
  },
  {
   "cell_type": "code",
   "execution_count": 134,
   "metadata": {},
   "outputs": [
    {
     "data": {
      "text/plain": [
       "[Text(0, 0, '10th'), Text(0, 0, '50th'), Text(0, 0, '95th')]"
      ]
     },
     "execution_count": 134,
     "metadata": {},
     "output_type": "execute_result"
    },
    {
     "data": {
      "image/png": "[encoded data removed]",
      "text/plain": [
       "<Figure size 432x288 with 1 Axes>"
      ]
     },
     "metadata": {
      "needs_background": "light"
     },
     "output_type": "display_data"
    }
   ],
   "source": [
    "# Compute cumulative returns\n",
    "from matplotlib.ticker import FuncFormatter\n",
    "import matplotlib.ticker as mtick\n",
    "ax=ending_cumulative_returns.quantile(q=[.1,.5,.9]).plot(kind=\"bar\")\n",
    "#ax.xaxis.set_major_formatter(mtick.PercentFormatter(1.0))\n",
    "ax.set(xlabel=\"Percentiles\", ylabel=\"Aggregate Return\")\n",
    "ax.set_xticklabels(['10th','50th','95th'])"
   ]
  },
  {
   "cell_type": "markdown",
   "metadata": {},
   "source": [
    "### Given an initial investment of `$20,000`, what is the expected portfolio return in dollars at the 10th, 50th, and 90th percentiles?"
   ]
  },
  {
   "cell_type": "code",
   "execution_count": 175,
   "metadata": {},
   "outputs": [
    {
     "data": {
      "text/plain": [
       "[('10th %ile', 2193483.0), ('50th %ile', 3979458.0), ('95th %ile', 6594179.0)]"
      ]
     },
     "execution_count": 175,
     "metadata": {},
     "output_type": "execute_result"
    }
   ],
   "source": [
    "# Set initial investment\n",
    "initial_investment=20000\n",
    "# Compute expected portfolio return\n",
    "portfolio_return_dollars=ending_cumulative_returns.quantile(q=[.1,.5,.9])*initial_investment\n",
    "output=zip(['10th %ile','50th %ile','95th %ile'],round(portfolio_return_dollars,0))\n",
    "list(output)\n"
   ]
  },
  {
   "cell_type": "markdown",
   "metadata": {},
   "source": [
    "### Given the current projected annual income from the Plaid analysis, will a 4% withdraw rate from the retirement portfolio meet or exceed that value at the 10th percentile?\n",
    "\n",
    "Note: This is effectively saying that 90% of the expected returns will be greater than the return at the 10th percentile, so this can help measure the uncertainty about having enough funds at retirement"
   ]
  },
  {
   "cell_type": "code",
   "execution_count": null,
   "metadata": {},
   "outputs": [],
   "source": [
    "# Set Plaid's projected income\n",
    "\n",
    "# Calculate the 4% withdrawal for the ending return as retirement income\n",
    "\n",
    "# Determine if the retirement income meets or exceeds the current projected income\n"
   ]
  },
  {
   "cell_type": "markdown",
   "metadata": {},
   "source": [
    "### How would a 50% increase in the initial investment amount affect the 4% retirement withdrawal?"
   ]
  },
  {
   "cell_type": "code",
   "execution_count": null,
   "metadata": {},
   "outputs": [],
   "source": [
    "# Re-calculate the retirement income with a 50% increase in the initial investment amount\n"
   ]
  },
  {
   "cell_type": "markdown",
   "metadata": {},
   "source": [
    "### Optional Challenge\n",
    "\n",
    "Use the Monte Carlo data and calculate the cumulative returns at the `5%`, `50%`, and `95%` quartiles and plot this data as a line chart to see how the cumulative returns change over the life of the investment.\n",
    "\n",
    "In this section, you need to calculate and plot the cumulative returns for the median and `90%` confidence intervals. This plot shows the expected cumulative returns for any given day between the first day and the last day of investment. "
   ]
  },
  {
   "cell_type": "code",
   "execution_count": 199,
   "metadata": {},
   "outputs": [
    {
     "data": {
      "text/plain": [
       "<matplotlib.axes._subplots.AxesSubplot at 0x1d07bf4fec8>"
      ]
     },
     "execution_count": 199,
     "metadata": {},
     "output_type": "execute_result"
    },
    {
     "data": {
      "image/png": "[encoded data removed]",
      "text/plain": [
       "<Figure size 432x288 with 1 Axes>"
      ]
     },
     "metadata": {
      "needs_background": "light"
     },
     "output_type": "display_data"
    }
   ],
   "source": [
    "# Compute projected returns\n",
    "NewReturns=portfolio_cumulative_returns.T.quantile([.05, .5, 0.95])*initial_investment\n",
    "NewReturns.T.plot()\n",
    "#portfolio_cumulative_returns.shape\n",
    "# Display sample data\n"
   ]
  },
  {
   "cell_type": "code",
   "execution_count": null,
   "metadata": {},
   "outputs": [],
   "source": [
    "# Plot the cumulative returns over time\n"
   ]
  },
  {
   "cell_type": "code",
   "execution_count": null,
   "metadata": {},
   "outputs": [],
   "source": [
    "# Compute portfolio performance over time\n",
    "\n",
    "# Plot projected performance over time\n"
   ]
  }
 ],
 "metadata": {
  "kernelspec": {
   "display_name": "Python 3",
   "language": "python",
   "name": "python3"
  },
  "language_info": {
   "codemirror_mode": {
    "name": "ipython",
    "version": 3
   },
   "file_extension": ".py",
   "mimetype": "text/x-python",
   "name": "python",
   "nbconvert_exporter": "python",
   "pygments_lexer": "ipython3",
   "version": "3.7.4"
  }
 },
 "nbformat": 4,
 "nbformat_minor": 4
}
